{
 "cells": [
  {
   "cell_type": "markdown",
   "metadata": {},
   "source": [
    "Import the necessary libraries"
   ]
  },
  {
   "cell_type": "code",
   "execution_count": 1,
   "metadata": {},
   "outputs": [],
   "source": [
    "import pandas as pd\n",
    "import requests\n",
    "from bs4 import BeautifulSoup"
   ]
  },
  {
   "cell_type": "markdown",
   "metadata": {},
   "source": [
    "Read in the html data"
   ]
  },
  {
   "cell_type": "code",
   "execution_count": 2,
   "metadata": {},
   "outputs": [],
   "source": [
    "url = 'https://en.wikipedia.org/wiki/List_of_postal_codes_of_Canada:_M'\n",
    "#html_data=requests.get(url).text\n",
    "#soup = BeautifulSoup(html_data.text, 'html.parser')\n",
    "data = pd.read_html(url)"
   ]
  },
  {
   "cell_type": "markdown",
   "metadata": {},
   "source": [
    "Take the desired table from the HTML data and display the top of the data frame"
   ]
  },
  {
   "cell_type": "code",
   "execution_count": 3,
   "metadata": {},
   "outputs": [
    {
     "data": {
      "text/html": [
       "<div>\n",
       "<style scoped>\n",
       "    .dataframe tbody tr th:only-of-type {\n",
       "        vertical-align: middle;\n",
       "    }\n",
       "\n",
       "    .dataframe tbody tr th {\n",
       "        vertical-align: top;\n",
       "    }\n",
       "\n",
       "    .dataframe thead th {\n",
       "        text-align: right;\n",
       "    }\n",
       "</style>\n",
       "<table border=\"1\" class=\"dataframe\">\n",
       "  <thead>\n",
       "    <tr style=\"text-align: right;\">\n",
       "      <th></th>\n",
       "      <th>0</th>\n",
       "      <th>1</th>\n",
       "      <th>2</th>\n",
       "      <th>3</th>\n",
       "      <th>4</th>\n",
       "      <th>5</th>\n",
       "      <th>6</th>\n",
       "      <th>7</th>\n",
       "      <th>8</th>\n",
       "    </tr>\n",
       "  </thead>\n",
       "  <tbody>\n",
       "    <tr>\n",
       "      <td>0</td>\n",
       "      <td>M1ANot assigned</td>\n",
       "      <td>M2ANot assigned</td>\n",
       "      <td>M3ANorth York(Parkwoods)</td>\n",
       "      <td>M4ANorth York(Victoria Village)</td>\n",
       "      <td>M5ADowntown Toronto(Regent Park / Harbourfront)</td>\n",
       "      <td>M6ANorth York(Lawrence Manor / Lawrence Heights)</td>\n",
       "      <td>M7AQueen's Park(Ontario Provincial Government)</td>\n",
       "      <td>M8ANot assigned</td>\n",
       "      <td>M9AEtobicoke(Islington Avenue)</td>\n",
       "    </tr>\n",
       "    <tr>\n",
       "      <td>1</td>\n",
       "      <td>M1BScarborough(Malvern / Rouge)</td>\n",
       "      <td>M2BNot assigned</td>\n",
       "      <td>M3BNorth York(Don Mills)North</td>\n",
       "      <td>M4BEast York(Parkview Hill / Woodbine Gardens)</td>\n",
       "      <td>M5BDowntown Toronto(Garden District, Ryerson)</td>\n",
       "      <td>M6BNorth York(Glencairn)</td>\n",
       "      <td>M7BNot assigned</td>\n",
       "      <td>M8BNot assigned</td>\n",
       "      <td>M9BEtobicoke(West Deane Park / Princess Garden...</td>\n",
       "    </tr>\n",
       "    <tr>\n",
       "      <td>2</td>\n",
       "      <td>M1CScarborough(Rouge Hill / Port Union / Highl...</td>\n",
       "      <td>M2CNot assigned</td>\n",
       "      <td>M3CNorth York(Don Mills)South(Flemingdon Park)</td>\n",
       "      <td>M4CEast York(Woodbine Heights)</td>\n",
       "      <td>M5CDowntown Toronto(St. James Town)</td>\n",
       "      <td>M6CYork(Humewood-Cedarvale)</td>\n",
       "      <td>M7CNot assigned</td>\n",
       "      <td>M8CNot assigned</td>\n",
       "      <td>M9CEtobicoke(Eringate / Bloordale Gardens / Ol...</td>\n",
       "    </tr>\n",
       "    <tr>\n",
       "      <td>3</td>\n",
       "      <td>M1EScarborough(Guildwood / Morningside / West ...</td>\n",
       "      <td>M2ENot assigned</td>\n",
       "      <td>M3ENot assigned</td>\n",
       "      <td>M4EEast Toronto(The Beaches)</td>\n",
       "      <td>M5EDowntown Toronto(Berczy Park)</td>\n",
       "      <td>M6EYork(Caledonia-Fairbanks)</td>\n",
       "      <td>M7ENot assigned</td>\n",
       "      <td>M8ENot assigned</td>\n",
       "      <td>M9ENot assigned</td>\n",
       "    </tr>\n",
       "    <tr>\n",
       "      <td>4</td>\n",
       "      <td>M1GScarborough(Woburn)</td>\n",
       "      <td>M2GNot assigned</td>\n",
       "      <td>M3GNot assigned</td>\n",
       "      <td>M4GEast York(Leaside)</td>\n",
       "      <td>M5GDowntown Toronto(Central Bay Street)</td>\n",
       "      <td>M6GDowntown Toronto(Christie)</td>\n",
       "      <td>M7GNot assigned</td>\n",
       "      <td>M8GNot assigned</td>\n",
       "      <td>M9GNot assigned</td>\n",
       "    </tr>\n",
       "  </tbody>\n",
       "</table>\n",
       "</div>"
      ],
      "text/plain": [
       "                                                   0                1  \\\n",
       "0                                    M1ANot assigned  M2ANot assigned   \n",
       "1                    M1BScarborough(Malvern / Rouge)  M2BNot assigned   \n",
       "2  M1CScarborough(Rouge Hill / Port Union / Highl...  M2CNot assigned   \n",
       "3  M1EScarborough(Guildwood / Morningside / West ...  M2ENot assigned   \n",
       "4                             M1GScarborough(Woburn)  M2GNot assigned   \n",
       "\n",
       "                                                2  \\\n",
       "0                        M3ANorth York(Parkwoods)   \n",
       "1                   M3BNorth York(Don Mills)North   \n",
       "2  M3CNorth York(Don Mills)South(Flemingdon Park)   \n",
       "3                                 M3ENot assigned   \n",
       "4                                 M3GNot assigned   \n",
       "\n",
       "                                                3  \\\n",
       "0                 M4ANorth York(Victoria Village)   \n",
       "1  M4BEast York(Parkview Hill / Woodbine Gardens)   \n",
       "2                  M4CEast York(Woodbine Heights)   \n",
       "3                    M4EEast Toronto(The Beaches)   \n",
       "4                           M4GEast York(Leaside)   \n",
       "\n",
       "                                                 4  \\\n",
       "0  M5ADowntown Toronto(Regent Park / Harbourfront)   \n",
       "1    M5BDowntown Toronto(Garden District, Ryerson)   \n",
       "2              M5CDowntown Toronto(St. James Town)   \n",
       "3                 M5EDowntown Toronto(Berczy Park)   \n",
       "4          M5GDowntown Toronto(Central Bay Street)   \n",
       "\n",
       "                                                  5  \\\n",
       "0  M6ANorth York(Lawrence Manor / Lawrence Heights)   \n",
       "1                          M6BNorth York(Glencairn)   \n",
       "2                       M6CYork(Humewood-Cedarvale)   \n",
       "3                      M6EYork(Caledonia-Fairbanks)   \n",
       "4                     M6GDowntown Toronto(Christie)   \n",
       "\n",
       "                                                6                7  \\\n",
       "0  M7AQueen's Park(Ontario Provincial Government)  M8ANot assigned   \n",
       "1                                 M7BNot assigned  M8BNot assigned   \n",
       "2                                 M7CNot assigned  M8CNot assigned   \n",
       "3                                 M7ENot assigned  M8ENot assigned   \n",
       "4                                 M7GNot assigned  M8GNot assigned   \n",
       "\n",
       "                                                   8  \n",
       "0                     M9AEtobicoke(Islington Avenue)  \n",
       "1  M9BEtobicoke(West Deane Park / Princess Garden...  \n",
       "2  M9CEtobicoke(Eringate / Bloordale Gardens / Ol...  \n",
       "3                                    M9ENot assigned  \n",
       "4                                    M9GNot assigned  "
      ]
     },
     "execution_count": 3,
     "metadata": {},
     "output_type": "execute_result"
    }
   ],
   "source": [
    "df_temp = data[0]\n",
    "df_temp.head()"
   ]
  },
  {
   "cell_type": "markdown",
   "metadata": {},
   "source": [
    "Function that will take the strings from the above data frame and parse it into 3 strings to form the new data frame"
   ]
  },
  {
   "cell_type": "code",
   "execution_count": 4,
   "metadata": {},
   "outputs": [],
   "source": [
    "def str_breaker(str_in):\n",
    "    pCode = str_in[0:3]\n",
    "    if \"Not assigned\" in str_in:\n",
    "        borough = \"Not assigned\"\n",
    "        neighborhood = ''\n",
    "    else:\n",
    "        indy = str_in.index('(')\n",
    "        borough = str_in[3:indy]\n",
    "        #neighborhood = str_in[indy+1:-1].split(' / ')\n",
    "        neighborhood = str_in[indy+1:].replace(' / ',', ')\n",
    "        neighborhood = neighborhood.replace('(','')\n",
    "        neighborhood = neighborhood.replace(')',' ')\n",
    "    return pCode, borough, neighborhood"
   ]
  },
  {
   "cell_type": "markdown",
   "metadata": {},
   "source": [
    "Testing the above function"
   ]
  },
  {
   "cell_type": "code",
   "execution_count": 5,
   "metadata": {},
   "outputs": [
    {
     "data": {
      "text/plain": [
       "'North York'"
      ]
     },
     "execution_count": 5,
     "metadata": {},
     "output_type": "execute_result"
    }
   ],
   "source": [
    "test1a, test1b, test1c = str_breaker('M2RNorth York(Willowdale)West')\n",
    "test1b"
   ]
  },
  {
   "cell_type": "markdown",
   "metadata": {},
   "source": [
    "Iterate through all of the cells from the old data frame parsing the data and removing Not assigned postal codes"
   ]
  },
  {
   "cell_type": "code",
   "execution_count": 6,
   "metadata": {},
   "outputs": [
    {
     "data": {
      "text/html": [
       "<div>\n",
       "<style scoped>\n",
       "    .dataframe tbody tr th:only-of-type {\n",
       "        vertical-align: middle;\n",
       "    }\n",
       "\n",
       "    .dataframe tbody tr th {\n",
       "        vertical-align: top;\n",
       "    }\n",
       "\n",
       "    .dataframe thead th {\n",
       "        text-align: right;\n",
       "    }\n",
       "</style>\n",
       "<table border=\"1\" class=\"dataframe\">\n",
       "  <thead>\n",
       "    <tr style=\"text-align: right;\">\n",
       "      <th></th>\n",
       "      <th>PostalCode</th>\n",
       "      <th>Borough</th>\n",
       "      <th>Neighborhood</th>\n",
       "    </tr>\n",
       "  </thead>\n",
       "  <tbody>\n",
       "    <tr>\n",
       "      <td>0</td>\n",
       "      <td>M3A</td>\n",
       "      <td>North York</td>\n",
       "      <td>Parkwoods</td>\n",
       "    </tr>\n",
       "    <tr>\n",
       "      <td>1</td>\n",
       "      <td>M4A</td>\n",
       "      <td>North York</td>\n",
       "      <td>Victoria Village</td>\n",
       "    </tr>\n",
       "    <tr>\n",
       "      <td>2</td>\n",
       "      <td>M5A</td>\n",
       "      <td>Downtown Toronto</td>\n",
       "      <td>Regent Park, Harbourfront</td>\n",
       "    </tr>\n",
       "    <tr>\n",
       "      <td>3</td>\n",
       "      <td>M6A</td>\n",
       "      <td>North York</td>\n",
       "      <td>Lawrence Manor, Lawrence Heights</td>\n",
       "    </tr>\n",
       "    <tr>\n",
       "      <td>4</td>\n",
       "      <td>M7A</td>\n",
       "      <td>Queen's Park</td>\n",
       "      <td>Ontario Provincial Government</td>\n",
       "    </tr>\n",
       "  </tbody>\n",
       "</table>\n",
       "</div>"
      ],
      "text/plain": [
       "  PostalCode           Borough                       Neighborhood\n",
       "0        M3A        North York                         Parkwoods \n",
       "1        M4A        North York                  Victoria Village \n",
       "2        M5A  Downtown Toronto         Regent Park, Harbourfront \n",
       "3        M6A        North York  Lawrence Manor, Lawrence Heights \n",
       "4        M7A      Queen's Park     Ontario Provincial Government "
      ]
     },
     "execution_count": 6,
     "metadata": {},
     "output_type": "execute_result"
    }
   ],
   "source": [
    "df = pd.DataFrame(columns = ['PostalCode', 'Borough', 'Neighborhood'])\n",
    "for i in range(df_temp.shape[0]):\n",
    "    for j in range(df_temp.shape[1]):\n",
    "        pC, bo, nh = str_breaker(df_temp.loc[i,j])\n",
    "        if bo != \"Not assigned\":\n",
    "            df = df.append({'PostalCode':pC, 'Borough':bo, 'Neighborhood':nh}, ignore_index = True)\n",
    "df.head()"
   ]
  },
  {
   "cell_type": "markdown",
   "metadata": {},
   "source": [
    "Display the shape of the final data frame"
   ]
  },
  {
   "cell_type": "code",
   "execution_count": 7,
   "metadata": {},
   "outputs": [
    {
     "data": {
      "text/plain": [
       "(103, 3)"
      ]
     },
     "execution_count": 7,
     "metadata": {},
     "output_type": "execute_result"
    }
   ],
   "source": [
    "df.shape"
   ]
  },
  {
   "cell_type": "code",
   "execution_count": 8,
   "metadata": {},
   "outputs": [
    {
     "data": {
      "text/html": [
       "<div>\n",
       "<style scoped>\n",
       "    .dataframe tbody tr th:only-of-type {\n",
       "        vertical-align: middle;\n",
       "    }\n",
       "\n",
       "    .dataframe tbody tr th {\n",
       "        vertical-align: top;\n",
       "    }\n",
       "\n",
       "    .dataframe thead th {\n",
       "        text-align: right;\n",
       "    }\n",
       "</style>\n",
       "<table border=\"1\" class=\"dataframe\">\n",
       "  <thead>\n",
       "    <tr style=\"text-align: right;\">\n",
       "      <th></th>\n",
       "      <th>PostalCode</th>\n",
       "      <th>Borough</th>\n",
       "      <th>Neighborhood</th>\n",
       "    </tr>\n",
       "  </thead>\n",
       "  <tbody>\n",
       "    <tr>\n",
       "      <td>0</td>\n",
       "      <td>M3A</td>\n",
       "      <td>North York</td>\n",
       "      <td>Parkwoods</td>\n",
       "    </tr>\n",
       "    <tr>\n",
       "      <td>1</td>\n",
       "      <td>M4A</td>\n",
       "      <td>North York</td>\n",
       "      <td>Victoria Village</td>\n",
       "    </tr>\n",
       "    <tr>\n",
       "      <td>2</td>\n",
       "      <td>M5A</td>\n",
       "      <td>Downtown Toronto</td>\n",
       "      <td>Regent Park, Harbourfront</td>\n",
       "    </tr>\n",
       "    <tr>\n",
       "      <td>3</td>\n",
       "      <td>M6A</td>\n",
       "      <td>North York</td>\n",
       "      <td>Lawrence Manor, Lawrence Heights</td>\n",
       "    </tr>\n",
       "    <tr>\n",
       "      <td>4</td>\n",
       "      <td>M7A</td>\n",
       "      <td>Queen's Park</td>\n",
       "      <td>Ontario Provincial Government</td>\n",
       "    </tr>\n",
       "    <tr>\n",
       "      <td>...</td>\n",
       "      <td>...</td>\n",
       "      <td>...</td>\n",
       "      <td>...</td>\n",
       "    </tr>\n",
       "    <tr>\n",
       "      <td>98</td>\n",
       "      <td>M8X</td>\n",
       "      <td>Etobicoke</td>\n",
       "      <td>The Kingsway, Montgomery Road, Old Mill North</td>\n",
       "    </tr>\n",
       "    <tr>\n",
       "      <td>99</td>\n",
       "      <td>M4Y</td>\n",
       "      <td>Downtown Toronto</td>\n",
       "      <td>Church and Wellesley</td>\n",
       "    </tr>\n",
       "    <tr>\n",
       "      <td>100</td>\n",
       "      <td>M7Y</td>\n",
       "      <td>East TorontoBusiness reply mail Processing Cen...</td>\n",
       "      <td>Enclave of M4L</td>\n",
       "    </tr>\n",
       "    <tr>\n",
       "      <td>101</td>\n",
       "      <td>M8Y</td>\n",
       "      <td>Etobicoke</td>\n",
       "      <td>Old Mill South, King's Mill Park, Sunnylea, Hu...</td>\n",
       "    </tr>\n",
       "    <tr>\n",
       "      <td>102</td>\n",
       "      <td>M8Z</td>\n",
       "      <td>Etobicoke</td>\n",
       "      <td>Mimico NW, The Queensway West, South of Bloor,...</td>\n",
       "    </tr>\n",
       "  </tbody>\n",
       "</table>\n",
       "<p>103 rows × 3 columns</p>\n",
       "</div>"
      ],
      "text/plain": [
       "    PostalCode                                            Borough  \\\n",
       "0          M3A                                         North York   \n",
       "1          M4A                                         North York   \n",
       "2          M5A                                   Downtown Toronto   \n",
       "3          M6A                                         North York   \n",
       "4          M7A                                       Queen's Park   \n",
       "..         ...                                                ...   \n",
       "98         M8X                                          Etobicoke   \n",
       "99         M4Y                                   Downtown Toronto   \n",
       "100        M7Y  East TorontoBusiness reply mail Processing Cen...   \n",
       "101        M8Y                                          Etobicoke   \n",
       "102        M8Z                                          Etobicoke   \n",
       "\n",
       "                                          Neighborhood  \n",
       "0                                           Parkwoods   \n",
       "1                                    Victoria Village   \n",
       "2                           Regent Park, Harbourfront   \n",
       "3                    Lawrence Manor, Lawrence Heights   \n",
       "4                       Ontario Provincial Government   \n",
       "..                                                 ...  \n",
       "98      The Kingsway, Montgomery Road, Old Mill North   \n",
       "99                               Church and Wellesley   \n",
       "100                                    Enclave of M4L   \n",
       "101  Old Mill South, King's Mill Park, Sunnylea, Hu...  \n",
       "102  Mimico NW, The Queensway West, South of Bloor,...  \n",
       "\n",
       "[103 rows x 3 columns]"
      ]
     },
     "execution_count": 8,
     "metadata": {},
     "output_type": "execute_result"
    }
   ],
   "source": [
    "df.arrange"
   ]
  },
  {
   "cell_type": "code",
   "execution_count": null,
   "metadata": {},
   "outputs": [],
   "source": []
  }
 ],
 "metadata": {
  "kernelspec": {
   "display_name": "Python 3",
   "language": "python",
   "name": "python3"
  },
  "language_info": {
   "codemirror_mode": {
    "name": "ipython",
    "version": 3
   },
   "file_extension": ".py",
   "mimetype": "text/x-python",
   "name": "python",
   "nbconvert_exporter": "python",
   "pygments_lexer": "ipython3",
   "version": "3.7.4"
  }
 },
 "nbformat": 4,
 "nbformat_minor": 2
}
